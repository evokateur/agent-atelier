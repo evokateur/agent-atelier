{
 "cells": [
  {
   "cell_type": "code",
   "execution_count": 1,
   "id": "506b4363-259c-487a-9a92-6c5f0c7afb80",
   "metadata": {},
   "outputs": [
    {
     "data": {
      "text/plain": [
       "True"
      ]
     },
     "execution_count": 1,
     "metadata": {},
     "output_type": "execute_result"
    }
   ],
   "source": [
    "from together import Together\n",
    "from dotenv import load_dotenv\n",
    "\n",
    "load_dotenv()"
   ]
  },
  {
   "cell_type": "code",
   "execution_count": 2,
   "id": "7dd6c124-eb89-4a2f-8277-6e4ce1ad6818",
   "metadata": {},
   "outputs": [],
   "source": [
    "class Agent:\n",
    "    def __init__(self, system_prompt, model_name):\n",
    "        self.system_prompt = system_prompt\n",
    "        self.messages = []\n",
    "        self.messages.append({\n",
    "            \"role\": \"system\",\n",
    "            \"content\": self.system_prompt\n",
    "        })\n",
    "        self.client_endpoint = Together()\n",
    "        self.model_name = model_name\n",
    "\n",
    "    def __call__(self, user_message=\"\"):\n",
    "        self.messages.append({\n",
    "            \"role\": \"user\",\n",
    "            \"content\": user_message\n",
    "        })\n",
    "        result = self.execute()\n",
    "        self.messages.append({\n",
    "            \"role\": \"assistant\",\n",
    "            \"content\": result\n",
    "        })\n",
    "        return result\n",
    "\n",
    "    def execute(self):\n",
    "        stream = self.client_endpoint.chat.completions.create(\n",
    "            model=self.model_name,\n",
    "            messages=self.messages,\n",
    "            stream=True,\n",
    "            max_tokens=1024,\n",
    "        )\n",
    "        answer = \"\"\n",
    "        for chunk in stream:\n",
    "            answer += chunk.choices[0].delta.content\n",
    "        return answer"
   ]
  },
  {
   "cell_type": "code",
   "execution_count": 3,
   "id": "d37af86a-f451-4497-a4ef-87142fdfe417",
   "metadata": {},
   "outputs": [
    {
     "name": "stdout",
     "output_type": "stream",
     "text": [
      "Hello! I'm an artificial intelligence (AI) assistant, which means I'm a computer program designed to simulate conversation, answer questions, and provide information on a wide range of topics. I'm here to help you with any questions or tasks you may have, and I'll do my best to provide accurate and helpful responses. I don't have a personal name, but you can think of me as a helpful companion or a knowledgeable friend. How can I assist you today?\n"
     ]
    }
   ],
   "source": [
    "# Test calling model\n",
    "system_prompt = \"You are an AI assistant.\"\n",
    "model = \"meta-llama/Llama-3.3-70B-Instruct-Turbo\"\n",
    "agent = Agent(system_prompt, model)\n",
    "print(agent(\"Hi. Who are you?\"))"
   ]
  },
  {
   "cell_type": "code",
   "execution_count": 12,
   "id": "5f883cba-2950-4ef6-a68c-47d623cc7ed0",
   "metadata": {},
   "outputs": [],
   "source": [
    "# Tools\n",
    "def flight_planner(json_dict):\n",
    "    # Simulate flight information tool\n",
    "    start = json_dict.get(\"start_location\", \"\")\n",
    "    end = json_dict.get(\"end_location\", \"\")\n",
    "    flight_time = None\n",
    "    flight_cost = None\n",
    "    if start == \"Singapore\" and end == \"Taipei\":\n",
    "        flight_time = 3\n",
    "        flight_cost = 800\n",
    "    elif start == \"Taipei\" and end == \"Tokyo\":\n",
    "        flight_time = 6\n",
    "        flight_cost = 200\n",
    "    elif start == \"Singapore\" and end == \"Tokyo\":\n",
    "        flight_time = 8\n",
    "        flight_cost = 1500\n",
    "    output = f\"Flight time: {flight_time}, Flight Cost: {flight_cost}\"\n",
    "    return output\n",
    "\n",
    "def calculate(json_dict):\n",
    "    # Calculation tool\n",
    "    operation = json_dict.get(\"operation\", \"\")\n",
    "    return eval(operation)\n",
    "\n",
    "        "
   ]
  },
  {
   "cell_type": "code",
   "execution_count": 4,
   "id": "8fcfe909-0ab9-48d3-8fbc-6ff166bbb255",
   "metadata": {},
   "outputs": [],
   "source": [
    "prompt = \"\"\"\n",
    "  You run in a loop of Thought, Action, PAUSE, Observation.\n",
    "  At the end of the loop you output an Answer\n",
    "  Use Thought to describe your thoughts about the question you have been asked.\n",
    "  Use Action to run one of the actions available to you - then return PAUSE.\n",
    "  Observation will be the result of running those actions.\n",
    "\n",
    "  Your available actions are:\n",
    "\n",
    "  flight_planner: Get flight time and cost between two cities.\n",
    "  \n",
    "  calculate: Runs a calculation on a mathematical expression and returns the result - uses Python so be sure to use floating point syntax if necessary\n",
    "  USE calculate for EVERY CALCULATION\n",
    "  \n",
    "  The way you use the tools is by specifying a json blob.\n",
    "  Specifically, this json should have an `action` key (with the name of the tool to use) and an `action_input` key (with the input to the tool going here).\n",
    "\n",
    "  The only values that should be in the \"action\" field are:\n",
    "    flight_planner: args: {\"start_location\": {\"type\": \"string\"}, \"end_location\": {\"type\": \"string\"}}\n",
    "    example use :\n",
    "    {{\n",
    "      \"action\": \"flight_planner\",\n",
    "      \"action_input\": {\"start_location\": \"Beijing\", \"end_location\", \"Tokyo\"}\n",
    "    }}\n",
    "    \n",
    "    calculate:  args: {\"operation\": {\"type\": \"string\"}}\n",
    "\n",
    "    ALWAYS use the following format:\n",
    "\n",
    "Question: the input question you must answer\n",
    "Thought: you should always think about one action to take. Only one action at a time in this format:\n",
    "Action:\n",
    "\n",
    "$JSON_BLOB (inside markdown cell)\n",
    "\n",
    "PAUSE\n",
    "You will be called again with this:\n",
    "\n",
    "Observation: the result of the action. This Observation is unique, complete, and the source of truth.\n",
    "\n",
    "If you have the answer, output it as the Final Answer\n",
    "\n",
    "Now begin! Reminder to ALWAYS use the exact characters `Final Answer:` when you provide a definitive answer. \n",
    "Only use information provided by tools. If you don't know, say you don't know\n",
    "\"\"\"\n"
   ]
  },
  {
   "cell_type": "code",
   "execution_count": 15,
   "id": "6dc3aafd-e783-4b26-8e64-c0af9cc5187d",
   "metadata": {},
   "outputs": [
    {
     "name": "stdout",
     "output_type": "stream",
     "text": [
      "Thought: To calculate 4 times 8, I need to use the calculate action with the mathematical expression \"4 * 8\".\n",
      "\n",
      "Action:\n",
      "```json\n",
      "{\n",
      "  \"action\": \"calculate\",\n",
      "  \"action_input\": {\"operation\": \"4 * 8\"}\n",
      "}\n",
      "```\n",
      "\n",
      "PAUSE\n"
     ]
    }
   ],
   "source": [
    "# Test model output\n",
    "model = \"meta-llama/Llama-3.3-70B-Instruct-Turbo\"\n",
    "agent = Agent(prompt, model)\n",
    "# test_result = agent(\"What is the flight time and cost between Singapore and Tokyo?\")\n",
    "test_result = agent(\"Calculate 4 times 8\")\n",
    "print(test_result)"
   ]
  },
  {
   "cell_type": "code",
   "execution_count": 18,
   "id": "1c033a65-1e34-4941-8293-3467f5ee0f6f",
   "metadata": {},
   "outputs": [
    {
     "name": "stdout",
     "output_type": "stream",
     "text": [
      "{'action': 'calculate', 'action_input': {'operation': '4 * 8'}}\n"
     ]
    }
   ],
   "source": [
    "# Setup regex function\n",
    "import re\n",
    "import json\n",
    "\n",
    "def extract_json_block(text: str) -> dict:\n",
    "    \"\"\"\n",
    "    Extracts the first JSON block enclosed in ```json ... ``` from the given text.\n",
    "    \n",
    "    Args:\n",
    "        text (str): The input string containing a JSON block.\n",
    "    \n",
    "    Returns:\n",
    "        dict: Parsed JSON object if found, otherwise None.\n",
    "    \"\"\"\n",
    "    match = re.search(r'```json\\s*(\\{.*?\\})\\s*```', text, re.DOTALL)\n",
    "    if match:\n",
    "        json_str = match.group(1)\n",
    "        try:\n",
    "            return json.loads(json_str)\n",
    "        except json.JSONDecodeError as e:\n",
    "            print(f\"Error decoding JSON: {e}\")\n",
    "            return None\n",
    "    else:\n",
    "        print(\"No JSON block found.\")\n",
    "        return None\n",
    "        \n",
    "# Test regex function\n",
    "print(extract_json_block(test_result))"
   ]
  },
  {
   "cell_type": "code",
   "execution_count": 17,
   "id": "4d1089a3-ca1e-4042-8235-8b94f68e0e70",
   "metadata": {},
   "outputs": [],
   "source": [
    "def agent_loop(max_iterations, system_prompt, model, query):\n",
    "    agent = Agent(system_prompt, model)\n",
    "    tools = [\"flight_planner\", \"calculate\"]\n",
    "    next_prompt = query\n",
    "    i = 0\n",
    "    while i < max_iterations:\n",
    "        i += 1\n",
    "        result = agent(next_prompt)\n",
    "        print(f\"Iteration: {i}, result: {result}\")\n",
    "        if \"PAUSE\" in result:\n",
    "            json_result = extract_json_block(result)\n",
    "            chosen_tool = json_result.get(\"action\", None)\n",
    "            tool_input = json_result.get(\"action_input\", None)\n",
    "\n",
    "            if chosen_tool in tools:\n",
    "                result_tool = eval(f\"{chosen_tool}({tool_input})\")\n",
    "                next_prompt = f\"Observation: {result_tool}\"\n",
    "            else:\n",
    "                next_prompt = \"Observation: Tool not found!\"\n",
    "            print(next_prompt)\n",
    "            continue\n",
    "        if \"Final Answer\" in result:\n",
    "            break"
   ]
  },
  {
   "cell_type": "code",
   "execution_count": 13,
   "id": "fb6086a5-3c9b-4967-b4a9-c314baa3ef9f",
   "metadata": {},
   "outputs": [
    {
     "name": "stdout",
     "output_type": "stream",
     "text": [
      "Iteration: 1, result: Thought: To determine whether it's better to fly direct to Tokyo or have a stopover at Taipei, we need to compare the flight times and costs of both options. We'll start by calculating the flight time and cost from Singapore to Tokyo with a stopover at Taipei, and then compare it to the direct flight from Singapore to Tokyo. First, let's get the flight time and cost from Singapore to Taipei.\n",
      "\n",
      "Action:\n",
      "```json\n",
      "{\n",
      "  \"action\": \"flight_planner\",\n",
      "  \"action_input\": {\"start_location\": \"Singapore\", \"end_location\": \"Taipei\"}\n",
      "}\n",
      "```\n",
      "PAUSE\n",
      "Observation: Flight time: 3, Flight Cost: 800\n",
      "Iteration: 2, result: Thought: Now that we have the flight time and cost from Singapore to Taipei, we need to get the flight time and cost from Taipei to Tokyo to calculate the total flight time and cost for the stopover option.\n",
      "\n",
      "Action:\n",
      "```json\n",
      "{\n",
      "  \"action\": \"flight_planner\",\n",
      "  \"action_input\": {\"start_location\": \"Taipei\", \"end_location\": \"Tokyo\"}\n",
      "}\n",
      "```\n",
      "PAUSE\n",
      "Observation: Flight time: 6, Flight Cost: 200\n",
      "Iteration: 3, result: Thought: We now have the flight times and costs for the stopover option. The total flight time for the stopover option is 3 + 6 = 9 hours, and the total cost is 800 + 200 = 1000. To compare, we need to get the flight time and cost for the direct flight from Singapore to Tokyo.\n",
      "\n",
      "Action:\n",
      "```json\n",
      "{\n",
      "  \"action\": \"flight_planner\",\n",
      "  \"action_input\": {\"start_location\": \"Singapore\", \"end_location\": \"Tokyo\"}\n",
      "}\n",
      "```\n",
      "PAUSE\n",
      "Observation: Flight time: 8, Flight Cost: 1500\n",
      "Iteration: 4, result: Thought: We now have the flight times and costs for both options. The direct flight from Singapore to Tokyo takes 8 hours and costs 1500, while the stopover option takes 9 hours and costs 1000. To determine which option is better, we need to calculate the cost per hour of flight time for each option.\n",
      "\n",
      "Action:\n",
      "```json\n",
      "{\n",
      "  \"action\": \"calculate\",\n",
      "  \"action_input\": {\"operation\": \"1000 / 9\"}\n",
      "}\n",
      "```\n",
      "PAUSE\n",
      "Observation: 111.11111111111111\n",
      "Iteration: 5, result: Thought: The cost per hour of flight time for the stopover option is approximately 111.11. Now, let's calculate the cost per hour of flight time for the direct flight option.\n",
      "\n",
      "Action:\n",
      "```json\n",
      "{\n",
      "  \"action\": \"calculate\",\n",
      "  \"action_input\": {\"operation\": \"1500 / 8\"}\n",
      "}\n",
      "```\n",
      "PAUSE\n",
      "Observation: 187.5\n",
      "Iteration: 6, result: Thought: The cost per hour of flight time for the direct flight option is 187.5. Comparing the two options, the stopover option has a lower cost per hour of flight time (111.11 vs 187.5) and a lower total cost (1000 vs 1500), but it takes 1 hour longer (9 hours vs 8 hours). Based on this information, we can determine which option is better.\n",
      "\n",
      "Since the stopover option is cheaper and has a lower cost per hour, but takes longer, the decision depends on the individual's priorities. However, in terms of cost, the stopover option is the better choice.\n",
      "\n",
      "Final Answer: The stopover option is better in terms of cost.\n"
     ]
    }
   ],
   "source": [
    "# Full test of agent\n",
    "model = \"meta-llama/Llama-3.3-70B-Instruct-Turbo\"\n",
    "query = \"From Singapore, is it better to fly direct to Tokyo or have a stopover first at Taipei?\"\n",
    "agent_loop(max_iterations=10, system_prompt=prompt, model=model, query=query)"
   ]
  }
 ],
 "metadata": {
  "kernelspec": {
   "display_name": "Python 3 (ipykernel)",
   "language": "python",
   "name": "python3"
  },
  "language_info": {
   "codemirror_mode": {
    "name": "ipython",
    "version": 3
   },
   "file_extension": ".py",
   "mimetype": "text/x-python",
   "name": "python",
   "nbconvert_exporter": "python",
   "pygments_lexer": "ipython3",
   "version": "3.12.7"
  }
 },
 "nbformat": 4,
 "nbformat_minor": 5
}
